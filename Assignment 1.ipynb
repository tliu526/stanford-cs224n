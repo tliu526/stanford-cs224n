{
 "cells": [
  {
   "cell_type": "markdown",
   "metadata": {},
   "source": [
    "# Assignment 1"
   ]
  },
  {
   "cell_type": "markdown",
   "metadata": {},
   "source": [
    "## 1 Softmax"
   ]
  },
  {
   "cell_type": "markdown",
   "metadata": {},
   "source": [
    "### 1a\n",
    "\n",
    "$$\n",
    "\\begin{align}\n",
    "\\text{softmax}(\\mathbf{x} + c)_i &= \\frac{e^{x_i + c}}{\\sum_je^{x_j + c}}\\\\\n",
    " &= \\frac{e^c e^{x_i}}{\\sum_j e^c e^{x_j}}\\\\\n",
    " &= \\frac{e^c e^{x_i}}{e^c \\sum_j e^{x_j}}\\\\\n",
    " &= \\text{softmax}(\\mathbf{x})_i\n",
    "\\end{align}\n",
    "$$ "
   ]
  }
 ],
 "metadata": {
  "kernelspec": {
   "display_name": "Python 2",
   "language": "python",
   "name": "python2"
  },
  "language_info": {
   "codemirror_mode": {
    "name": "ipython",
    "version": 2
   },
   "file_extension": ".py",
   "mimetype": "text/x-python",
   "name": "python",
   "nbconvert_exporter": "python",
   "pygments_lexer": "ipython2",
   "version": "2.7.13"
  }
 },
 "nbformat": 4,
 "nbformat_minor": 2
}
